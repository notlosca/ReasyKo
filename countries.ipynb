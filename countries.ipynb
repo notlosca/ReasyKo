{
 "cells": [
  {
   "cell_type": "code",
   "execution_count": 1,
   "metadata": {},
   "outputs": [],
   "source": [
    "import networkx as nx "
   ]
  },
  {
   "cell_type": "code",
   "execution_count": 2,
   "metadata": {},
   "outputs": [],
   "source": [
    "countries = {\n",
    "    'North America':\n",
    "        ['Alaska',\n",
    "        'Alberta (Western Canada)',\n",
    "        'Central America',\n",
    "        'Eastern United States',\n",
    "        'Greenland',\n",
    "        'Northwest Territory',\n",
    "        'Ontario (Central Canada)',\n",
    "        'Quebec (Eastern Canada)',\n",
    "        'Western United States'],\n",
    "    'South America':\n",
    "        ['Argentina',\n",
    "        'Brazil',\n",
    "        'Peru',\n",
    "        'Venezuela'],\n",
    "    'Europe':\n",
    "        ['Great Britain (Great Britain & Ireland)',\n",
    "        'Iceland',\n",
    "        'Northern Europe',\n",
    "        'Scandinavia',\n",
    "        'Southern Europe',\n",
    "        'Ukraine (Eastern Europe, Russia)',\n",
    "        'Western Europe'],\n",
    "    'Africa':\n",
    "        ['Congo (Central Africa)',\n",
    "        'East Africa',\n",
    "        'Egypt',\n",
    "        'Madagascar',\n",
    "        'North Africa',\n",
    "        'South Africa'],\n",
    "    'Asia':\n",
    "        ['Afghanistan',\n",
    "        'China',\n",
    "        'India (Hindustan)',\n",
    "        'Irkutsk',\n",
    "        'Japan',\n",
    "        'Kamchatka',\n",
    "        'Middle East',\n",
    "        'Mongolia',\n",
    "        'Siam (Southeast Asia)',\n",
    "        'Siberia',\n",
    "        'Ural',\n",
    "        'Yakutsk'],\n",
    "    'Australia':\n",
    "        ['Eastern Australia',\n",
    "        'Indonesia',\n",
    "        'New Guinea',\n",
    "        'Western Australia']\n",
    "}"
   ]
  },
  {
   "cell_type": "code",
   "execution_count": null,
   "metadata": {},
   "outputs": [],
   "source": []
  }
 ],
 "metadata": {
  "interpreter": {
   "hash": "76a2e1ec00c958b477df92068c0f135b8026fbcc8211f85466c63307c2bb6664"
  },
  "kernelspec": {
   "display_name": "Python 3.9.7 ('NDNL')",
   "language": "python",
   "name": "python3"
  },
  "language_info": {
   "codemirror_mode": {
    "name": "ipython",
    "version": 3
   },
   "file_extension": ".py",
   "mimetype": "text/x-python",
   "name": "python",
   "nbconvert_exporter": "python",
   "pygments_lexer": "ipython3",
   "version": "3.9.7"
  },
  "orig_nbformat": 4
 },
 "nbformat": 4,
 "nbformat_minor": 2
}
